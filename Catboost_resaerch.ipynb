{
  "nbformat": 4,
  "nbformat_minor": 0,
  "metadata": {
    "colab": {
      "provenance": [],
      "authorship_tag": "ABX9TyPeebsW7p/g8yAobTQjXyY9",
      "include_colab_link": true
    },
    "kernelspec": {
      "name": "python3",
      "display_name": "Python 3"
    },
    "language_info": {
      "name": "python"
    }
  },
  "cells": [
    {
      "cell_type": "markdown",
      "metadata": {
        "id": "view-in-github",
        "colab_type": "text"
      },
      "source": [
        "<a href=\"https://colab.research.google.com/github/charlesdtdb/pymc-marketing/blob/main/Catboost_resaerch.ipynb\" target=\"_parent\"><img src=\"https://colab.research.google.com/assets/colab-badge.svg\" alt=\"Open In Colab\"/></a>"
      ]
    },
    {
      "cell_type": "code",
      "execution_count": null,
      "metadata": {
        "id": "CIjC7906DBOO"
      },
      "outputs": [],
      "source": [
        "from catboost import Pool, CatBoostRegressor\n",
        "import numpy as np\n",
        "import pandas as pd\n",
        "\n",
        "train = pd.read_csv(\"/kaggle/input/prediction-interval-competition-i-birth-weight/train.csv\", index_col=\"id\")\n",
        "train_X = pd.get_dummies(train, drop_first=True)\n",
        "train_y = train[\"DBWT\"]\n",
        "train_X = train_X.drop([\"DBWT\"], axis=1)\n",
        "\n",
        "test = pd.read_csv(\"/kaggle/input/prediction-interval-competition-i-birth-weight/test.csv\", index_col=\"id\")\n",
        "test_X = pd.get_dummies(test, drop_first=True)\n",
        "\n",
        "train = Pool(train_X, train_y)\n",
        "test = Pool(test_X)\n",
        "\n",
        "params = {'learning_rate': 0.01,\n",
        "          'random_state': 42,\n",
        "          'colsample_bylevel': 0.5,\n",
        "          'subsample': 0.5,\n",
        "          'max_bin': 50,\n",
        "          'max_depth': 8,\n",
        "          'loss_function': 'RMSEWithUncertainty',\n",
        "          'task_type': 'CPU',\n",
        "          'iterations': 2000,\n",
        "          'boosting_type': 'Plain',\n",
        "          'bootstrap_type': 'Bernoulli',\n",
        "          'verbose': 500,\n",
        "         }\n",
        "\n",
        "model = CatBoostRegressor(**params)\n",
        "model.fit(train)\n",
        "\n",
        "preds = model.predict(test)\n",
        "mean_preds, var_preds = preds[:,0], preds[:,1]\n",
        "\n",
        "sample_submission = pd.read_csv(\"/kaggle/input/prediction-interval-competition-i-birth-weight/sample_submission.csv\")\n",
        "sample_submission[\"pi_lower\"] = (mean_preds - 1.75*np.sqrt(var_preds)).clip(np.min(train_y), np.max(train_y))\n",
        "sample_submission[\"pi_upper\"] = (mean_preds + 1.75*np.sqrt(var_preds)).clip(np.min(train_y), np.max(train_y))\n",
        "sample_submission.to_csv('submission.csv',index=False)\n",
        "sample_submission.head()"
      ]
    }
  ]
}